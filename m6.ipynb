{
 "cells": [
  {
   "cell_type": "code",
   "execution_count": 45,
   "metadata": {
    "collapsed": true,
    "ExecuteTime": {
     "start_time": "2024-02-25T21:41:36.667900Z",
     "end_time": "2024-02-25T21:41:36.680818Z"
    }
   },
   "outputs": [],
   "source": [
    "import multiprocessing\n",
    "import os\n",
    "import re\n",
    "import time\n",
    "import numpy as np\n",
    "import pandas as pd\n",
    "import requests\n",
    "import json\n",
    "from ManualIndexer import ManualIndexer\n",
    "import pickle\n",
    "from pathlib import Path\n",
    "from BM25 import BM25\n",
    "from nltk.tokenize import word_tokenize\n",
    "from nltk.corpus import stopwords\n",
    "from sklearn.feature_extraction.text import TfidfVectorizer\n",
    "from bs4.element import Comment\n",
    "from bs4 import BeautifulSoup\n",
    "from urllib.parse import urljoin\n",
    "from queue import Queue, Empty\n",
    "from urllib.parse import urlparse\n",
    "from concurrent.futures import ThreadPoolExecutor\n",
    "from Pr import Pr\n",
    "from elasticsearch import Elasticsearch"
   ]
  },
  {
   "cell_type": "code",
   "execution_count": 46,
   "outputs": [
    {
     "name": "stdout",
     "output_type": "stream",
     "text": [
      " * Serving Flask app '__main__'\n",
      " * Debug mode: off\n"
     ]
    },
    {
     "name": "stderr",
     "output_type": "stream",
     "text": [
      "\u001B[31m\u001B[1mWARNING: This is a development server. Do not use it in a production deployment. Use a production WSGI server instead.\u001B[0m\n",
      " * Running on http://127.0.0.1:5000\n",
      "\u001B[33mPress CTRL+C to quit\u001B[0m\n",
      "127.0.0.1 - - [25/Feb/2024 21:41:52] \"GET /search_manual?query=camt HTTP/1.1\" 200 -\n"
     ]
    },
    {
     "name": "stdout",
     "output_type": "stream",
     "text": [
      "This is BM25  229\n",
      "This is Hit  229\n"
     ]
    }
   ],
   "source": [
    "from flask import Flask, request\n",
    "\n",
    "app = Flask(__name__)\n",
    "app.es_client = Elasticsearch(\"https://localhost:9200\", basic_auth=(\"elastic\", \"X7U+Q+3MvP3M*9xnjuBF\"), ca_certs=\"~/http_ca.crt\")\n",
    "app.manual_indexer = ManualIndexer()\n",
    "\n",
    "@app.route('/search_es', methods=['GET'])\n",
    "def search_es():\n",
    "    start = time.time()\n",
    "    response_object = {'status': 'success'}\n",
    "    argList = request.args.to_dict(flat=False)\n",
    "    query_term = argList['query'][0]\n",
    "    results = app.es_client.search(index='simple', source_excludes=['url_lists'], size=100,\n",
    "                                   query={\"match\": {\"text\": query_term}})\n",
    "    end = time.time()\n",
    "    total_hit = results['hits']['total']['value']\n",
    "    results_df = pd.DataFrame([[hit[\"_source\"]['title'],hit[\"_source\"][\"url\"],hit[\"_source\"]['text'][:100],hit[\"_score\"]] for hit in results['hits']['hits']], columns=['title','url','text','score'])\n",
    "\n",
    "    response_object['total_hit'] = total_hit\n",
    "    response_object['results'] = results_df.to_dict('records')\n",
    "    response_object['elapse'] = end-start\n",
    "    return response_object\n",
    "\n",
    "@app.route('/search_manual', methods=['GET'])\n",
    "def search_manual():\n",
    "    start = time.time()\n",
    "    response_object = {'status': 'success'}\n",
    "    argList = request.args.to_dict(flat=False)\n",
    "    query_term = argList['query'][0]\n",
    "\n",
    "    # Perform manual indexing query\n",
    "    results = app.manual_indexer.query(query_term)\n",
    "\n",
    "    # Add HTML <b>..</b> tag to the query term and show two or three sentences surrounding it\n",
    "    results['text'] = results['text'].apply(lambda x: bold_text_query(x, query_term))\n",
    "\n",
    "    end = time.time()\n",
    "    total_hit = len(results)\n",
    "    results_df = results.drop('url_lists', axis=1)\n",
    "\n",
    "    response_object['total_hit'] = total_hit\n",
    "    response_object['results'] = results_df.to_dict('records')\n",
    "    response_object['elapse'] = end-start\n",
    "    return response_object\n",
    "\n",
    "@app.route('/search', methods\n",
    "=['GET'])\n",
    "def search():\n",
    "    start = time.time()\n",
    "    respond_object = {'status': 'success'}\n",
    "    argList = request.args.to_dict(flat=False)\n",
    "    query_term = argList['query'][0]\n",
    "    results = app.es_client.search(index='simple', source_excludes=['url_lists'], size=100,\n",
    "                                   query={\"script_score\": {\"query\": {\"match\" : {\"text\": query_term}},\n",
    "                                                           \"script\": {\"source\": \"_score * doc['pagerank'].value\"}}})\n",
    "    end = time.time()\n",
    "    total_hit = results['hits']['total']['value']\n",
    "    results_df = pd.DataFrame([[hit[\"_source\"][\"title\"], hit[\"_source\"]['url'], hit[\"_source\"][\"text\"][:100], hit[\"_source\"]] for hit in results['hits']['hits']], columns=['title', 'url', 'text', 'score'])\n",
    "\n",
    "    respond_object['total_hit'] = total_hit\n",
    "    respond_object['results'] = results_df.to_dict('records')\n",
    "    respond_object['elapse'] = end -start\n",
    "    return respond_object\n",
    "\n",
    "def bold_text_query(text, query_term, context_length=100):\n",
    "    # Highlight the query term in the text and show only two or three sentences surrounding it\n",
    "    sentences = re.split(r'(?<=[.!?]) +', text)\n",
    "    bold_text = \"\"\n",
    "    for sentence in sentences:\n",
    "        if query_term.lower() in sentence.lower():\n",
    "            start_idx = max(sentence.lower().find(query_term.lower()) - context_length, 0)\n",
    "            end_idx = min(sentence.lower().find(query_term.lower()) + len(query_term.lower()) + context_length, len(sentence))\n",
    "            bold_sentence = sentence[start_idx:end_idx]\n",
    "            bold_sentence = bold_sentence.replace(query_term, f\"<b>{query_term}</b>\")\n",
    "            bold_text += bold_sentence + \"...\"\n",
    "            break\n",
    "    return bold_text\n",
    "\n",
    "\n",
    "if __name__ == '__main__':\n",
    "    app.run(debug=False)"
   ],
   "metadata": {
    "collapsed": false,
    "ExecuteTime": {
     "start_time": "2024-02-25T21:41:36.678173Z",
     "end_time": "2024-02-25T21:41:59.433037Z"
    }
   }
  },
  {
   "cell_type": "markdown",
   "source": [
    "<h1>Discuss about how this new mix of scores makes finding things better or worse.\n",
    "</h1>\n",
    "\n",
    "- Combining BM25 with PageRank, the search system can better prioritize pages that are not only relevant to the query but also authoritative and widely recognized across the web. This means users are more likely to find more relevance at the top of search results, leading to a better overall search experience."
   ],
   "metadata": {
    "collapsed": false
   }
  }
 ],
 "metadata": {
  "kernelspec": {
   "display_name": "Python 3",
   "language": "python",
   "name": "python3"
  },
  "language_info": {
   "codemirror_mode": {
    "name": "ipython",
    "version": 2
   },
   "file_extension": ".py",
   "mimetype": "text/x-python",
   "name": "python",
   "nbconvert_exporter": "python",
   "pygments_lexer": "ipython2",
   "version": "2.7.6"
  }
 },
 "nbformat": 4,
 "nbformat_minor": 0
}
